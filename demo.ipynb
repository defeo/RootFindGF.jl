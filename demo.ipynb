{
 "cells": [
  {
   "cell_type": "markdown",
   "metadata": {},
   "source": [
    "If you havent installed the module already, uncomment this"
   ]
  },
  {
   "cell_type": "code",
   "execution_count": 1,
   "metadata": {
    "collapsed": true
   },
   "outputs": [],
   "source": [
    "#Pkg.clone(\"https://github.com/defeo/RootFindGF.jl.git\")"
   ]
  },
  {
   "cell_type": "code",
   "execution_count": 2,
   "metadata": {
    "collapsed": false
   },
   "outputs": [
    {
     "name": "stdout",
     "output_type": "stream",
     "text": [
      "\n",
      "Welcome to Nemo version 0.5.0\n",
      "\n",
      "Nemo comes with absolutely no warranty whatsoever\n",
      "\n"
     ]
    }
   ],
   "source": [
    "using RootFindGF"
   ]
  },
  {
   "cell_type": "code",
   "execution_count": 3,
   "metadata": {
    "collapsed": false
   },
   "outputs": [
    {
     "data": {
      "text/plain": [
       "(Univariate Polynomial Ring in X over Finite field of degree 10 over F_2,X)"
      ]
     },
     "execution_count": 3,
     "metadata": {},
     "output_type": "execute_result"
    }
   ],
   "source": [
    "K, x = Nemo.FiniteField(2, 10, \"x\")\n",
    "P, X = Nemo.PolynomialRing(K, \"X\")"
   ]
  },
  {
   "cell_type": "code",
   "execution_count": 4,
   "metadata": {
    "collapsed": false
   },
   "outputs": [
    {
     "data": {
      "text/plain": [
       "X^13+(x^9+x^7+x^6+x^5+x^4+x)*X^12+(x^8+x^7+x^5+x^2)*X^11+(x^6+x^5+x)*X^10+(x^9+x^7+x^6+x^5+x+1)*X^9+(x^8+x^6+x^4+x^3+x^2)*X^8+(x^9+x^8+x^6+x^5+x^4+x)*X^7+(x^9+x^6+x+1)*X^6+(x^8+x^7+x^4+x^3)*X^5+(x^9+x^6+x^5+x^4+x^3+x^2+x+1)*X^4+(x^9+x^7+x^5+x^4+x^3+x^2+1)*X^3+(x^3+x^2+x+1)*X^2+(x^9+x^7+x^6+x^4+x)*X+(x^9+x^5+x^4+x^3+x^2)"
      ]
     },
     "execution_count": 4,
     "metadata": {},
     "output_type": "execute_result"
    }
   ],
   "source": [
    "roots = K[x^i for i in 0:12]\n",
    "f = mapreduce(r -> X-r, *, roots)\n",
    "f"
   ]
  },
  {
   "cell_type": "markdown",
   "metadata": {},
   "source": [
    "Use Petit's SRA algorithm to find the roots of f (without multiplicities)"
   ]
  },
  {
   "cell_type": "code",
   "execution_count": 5,
   "metadata": {
    "collapsed": false
   },
   "outputs": [
    {
     "data": {
      "text/plain": [
       "13-element Array{Nemo.fq_nmod,1}:\n",
       " x^6+x^5+x^3+x^2+x+1    \n",
       " 1                      \n",
       " x^7+x^6+x^4+x^3+x^2+x  \n",
       " x                      \n",
       " x^8+x^7+x^5+x^4+x^3+x^2\n",
       " x^2                    \n",
       " x^3                    \n",
       " x^4                    \n",
       " x^5                    \n",
       " x^6                    \n",
       " x^9                    \n",
       " x^8                    \n",
       " x^7                    "
      ]
     },
     "execution_count": 5,
     "metadata": {},
     "output_type": "execute_result"
    }
   ],
   "source": [
    "r = SRA(f)\n",
    "@assert Set(r) == Set(roots)\n",
    "r"
   ]
  },
  {
   "cell_type": "markdown",
   "metadata": {},
   "source": [
    "Use the default flintlib implementation (Cantor-Zassenhaus + Kaltofen-Shoup) for finding roots (with multiplicities)"
   ]
  },
  {
   "cell_type": "code",
   "execution_count": 6,
   "metadata": {
    "collapsed": false
   },
   "outputs": [
    {
     "data": {
      "text/plain": [
       "Dict{Nemo.fq_nmod,Int64} with 13 entries:\n",
       "  x^8                     => 1\n",
       "  x^6+x^5+x^3+x^2+x+1     => 1\n",
       "  x^4                     => 1\n",
       "  x^9                     => 1\n",
       "  x^5                     => 1\n",
       "  x^3                     => 1\n",
       "  x^8+x^7+x^5+x^4+x^3+x^2 => 1\n",
       "  x                       => 1\n",
       "  x^7                     => 1\n",
       "  x^2                     => 1\n",
       "  x^7+x^6+x^4+x^3+x^2+x   => 1\n",
       "  x^6                     => 1\n",
       "  1                       => 1"
      ]
     },
     "execution_count": 6,
     "metadata": {},
     "output_type": "execute_result"
    }
   ],
   "source": [
    "r = flint_root_find(f)\n",
    "@assert Set(keys(r)) == Set(roots)\n",
    "r"
   ]
  },
  {
   "cell_type": "markdown",
   "metadata": {},
   "source": [
    "Other useful functions are available internally for use by experts. Read the source, Luke."
   ]
  },
  {
   "cell_type": "code",
   "execution_count": null,
   "metadata": {
    "collapsed": true
   },
   "outputs": [],
   "source": []
  }
 ],
 "metadata": {
  "kernelspec": {
   "display_name": "Julia 0.4.6",
   "language": "julia",
   "name": "julia-0.4"
  },
  "language_info": {
   "file_extension": ".jl",
   "mimetype": "application/julia",
   "name": "julia",
   "version": "0.4.6"
  }
 },
 "nbformat": 4,
 "nbformat_minor": 0
}
